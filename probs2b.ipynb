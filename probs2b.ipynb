{
 "cells": [
  {
   "cell_type": "markdown",
   "metadata": {
    "colab_type": "text",
    "id": "4-Wk_TD16ufl"
   },
   "source": [
    "# Lecture 2, Part 2 Exercises "
   ]
  },
  {
   "cell_type": "markdown",
   "metadata": {
    "colab_type": "text",
    "id": "BqRxSUXt6ufx"
   },
   "source": [
    "## Question 1"
   ]
  },
  {
   "cell_type": "markdown",
   "metadata": {
    "colab_type": "text",
    "id": "4qtgPAzK6ufz"
   },
   "source": [
    "Write a function that takes in a list and returns the length of the list. Fill in the function definition below."
   ]
  },
  {
   "cell_type": "code",
   "execution_count": 1,
   "metadata": {
    "colab": {},
    "colab_type": "code",
    "id": "zoJ_dnBy6uf0"
   },
   "outputs": [
    {
     "name": "stdout",
     "output_type": "stream",
     "text": [
      "True\n",
      "True\n",
      "True\n"
     ]
    }
   ],
   "source": [
    "def listLen(l):\n",
    "    # write here\n",
    "    return len(l)\n",
    "\n",
    "    # Test your code here.\n",
    "print(listLen([1, 2, 3]) == 3)\n",
    "print(listLen([\"Daniel\", \"Basi\", \"Mike\", \"Leello\", \"Rupal\"]) == 5)\n",
    "print(listLen([]) == 0)"
   ]
  },
  {
   "cell_type": "markdown",
   "metadata": {
    "colab_type": "text",
    "id": "S-wc5wtW6ugB"
   },
   "source": [
    "## Question 2"
   ]
  },
  {
   "cell_type": "markdown",
   "metadata": {
    "colab_type": "text",
    "id": "Mg9MeC3_6ugC"
   },
   "source": [
    "### 2.1"
   ]
  },
  {
   "cell_type": "markdown",
   "metadata": {
    "colab_type": "text",
    "id": "v7wk2TDk6ugD"
   },
   "source": [
    "What is the last number printed in this example:"
   ]
  },
  {
   "cell_type": "markdown",
   "metadata": {
    "colab_type": "text",
    "id": "eius50Ny6ugE"
   },
   "source": [
    "```python\n",
    "for elem in [23, 42, 10]:\n",
    "    print(elem)\n",
    "```"
   ]
  },
  {
   "cell_type": "code",
   "execution_count": 2,
   "metadata": {
    "colab": {},
    "colab_type": "code",
    "id": "5m2tjCKx6ugF"
   },
   "outputs": [
    {
     "name": "stdout",
     "output_type": "stream",
     "text": [
      "23\n",
      "42\n",
      "10\n"
     ]
    }
   ],
   "source": [
    "# Your answer:10\n",
    "for elem in [23, 42, 10]:\n",
    "    print(elem)"
   ]
  },
  {
   "cell_type": "markdown",
   "metadata": {
    "colab_type": "text",
    "id": "uPZfHqlh6ugI"
   },
   "source": [
    "How about in this example?"
   ]
  },
  {
   "cell_type": "markdown",
   "metadata": {
    "colab_type": "text",
    "id": "D-SHGxSy6ugJ"
   },
   "source": [
    "```python\n",
    "for elem in range(10):\n",
    "    print(elem + 5)\n",
    "```"
   ]
  },
  {
   "cell_type": "code",
   "execution_count": 3,
   "metadata": {
    "colab": {},
    "colab_type": "code",
    "id": "AsFJxAgE6ugK"
   },
   "outputs": [
    {
     "name": "stdout",
     "output_type": "stream",
     "text": [
      "5\n",
      "6\n",
      "7\n",
      "8\n",
      "9\n",
      "10\n",
      "11\n",
      "12\n",
      "13\n",
      "14\n"
     ]
    }
   ],
   "source": [
    "# Your answer:14\n",
    "for elem in range(10):\n",
    "    print(elem + 5)"
   ]
  },
  {
   "cell_type": "markdown",
   "metadata": {
    "colab_type": "text",
    "id": "fbVA-A3r6ugN"
   },
   "source": [
    "How, if at all, is this different from the previous example?"
   ]
  },
  {
   "cell_type": "markdown",
   "metadata": {
    "colab_type": "text",
    "id": "HrdecP3y6ugO"
   },
   "source": [
    "```python\n",
    "for elem in range(0, 10):\n",
    "    print(elem + 5)\n",
    "```"
   ]
  },
  {
   "cell_type": "code",
   "execution_count": 4,
   "metadata": {
    "colab": {},
    "colab_type": "code",
    "id": "8_kbYZnR6ugP"
   },
   "outputs": [
    {
     "name": "stdout",
     "output_type": "stream",
     "text": [
      "5\n",
      "6\n",
      "7\n",
      "8\n",
      "9\n",
      "10\n",
      "11\n",
      "12\n",
      "13\n",
      "14\n"
     ]
    }
   ],
   "source": [
    "# Your answer:14\n",
    "for elem in range(0,10):\n",
    "    print(elem + 5)"
   ]
  },
  {
   "cell_type": "markdown",
   "metadata": {
    "colab_type": "text",
    "id": "aO4pEMUo6ugT"
   },
   "source": [
    "Is the last element printed in this example different from the last element printed in the above example?"
   ]
  },
  {
   "cell_type": "markdown",
   "metadata": {
    "colab_type": "text",
    "id": "Ed0B_elI6ugU"
   },
   "source": [
    "```python\n",
    "for elem in range(0, 10, 2):\n",
    "    print(elem + 5)\n",
    "```"
   ]
  },
  {
   "cell_type": "code",
   "execution_count": 5,
   "metadata": {
    "colab": {},
    "colab_type": "code",
    "id": "hJoy-SXN6ugV"
   },
   "outputs": [
    {
     "name": "stdout",
     "output_type": "stream",
     "text": [
      "5\n",
      "7\n",
      "9\n",
      "11\n",
      "13\n"
     ]
    }
   ],
   "source": [
    "# Your answer:yes it is 13\n",
    "for elem in range(0,10,2):\n",
    "    print(elem + 5)"
   ]
  },
  {
   "cell_type": "markdown",
   "metadata": {
    "colab_type": "text",
    "id": "l86KeV8r6ugX"
   },
   "source": [
    "### 2.2"
   ]
  },
  {
   "cell_type": "markdown",
   "metadata": {
    "colab_type": "text",
    "id": "tP0zWBf86ugY"
   },
   "source": [
    "Using a `for` loop, print every element in the list l. Do this using \n",
    "\n",
    "1) `for x in l` syntax\n",
    "\n",
    "2) `for x in range` syntax"
   ]
  },
  {
   "cell_type": "code",
   "execution_count": 18,
   "metadata": {
    "colab": {},
    "colab_type": "code",
    "id": "V9CsE3W46ugZ"
   },
   "outputs": [
    {
     "name": "stdout",
     "output_type": "stream",
     "text": [
      "2\n",
      "7\n",
      "5\n",
      "2\n",
      "7\n",
      "5\n"
     ]
    }
   ],
   "source": [
    "l = [2, 7, 5]\n",
    "# write for loop here with method 1\n",
    "for x in l:\n",
    "    print(x)\n",
    "\n",
    "# use method 2 here\n",
    "for x in range(len(l)):\n",
    "    print(l[x])"
   ]
  },
  {
   "cell_type": "markdown",
   "metadata": {
    "colab_type": "text",
    "id": "dni6jTLq6ugd"
   },
   "source": [
    "### 2.3"
   ]
  },
  {
   "cell_type": "markdown",
   "metadata": {
    "colab_type": "text",
    "id": "TQtoeNkD6uge"
   },
   "source": [
    "Write a function ```printNums(x)``` that prints every number between $0$ and $x-1$. \n",
    "\n",
    "For example when $x = 3$, ```printNums(x)``` should give:\n",
    "```\n",
    "0\n",
    "1\n",
    "2\n",
    "```"
   ]
  },
  {
   "cell_type": "code",
   "execution_count": 9,
   "metadata": {
    "colab": {},
    "colab_type": "code",
    "id": "oNijljAB6ugf"
   },
   "outputs": [
    {
     "name": "stdout",
     "output_type": "stream",
     "text": [
      "0\n",
      "1\n",
      "2\n"
     ]
    }
   ],
   "source": [
    "# Write code here\n",
    "def printNums(x):\n",
    "    for i in range(x):\n",
    "        print(i)\n",
    "\n",
    "# Test your code here\n",
    "printNums(3)"
   ]
  },
  {
   "cell_type": "markdown",
   "metadata": {
    "colab_type": "text",
    "id": "tcSIOnHz6ugi"
   },
   "source": [
    "### 2.4"
   ]
  },
  {
   "cell_type": "markdown",
   "metadata": {
    "colab_type": "text",
    "id": "u5p9LvI26ugj"
   },
   "source": [
    "Write a function ```sumx(x)```, using a `for` loop, that sums every number between $0$ and $x - 1$ inclusive. *Hint: you may want to define a variable inside your function to keep track of the running sum.*\n",
    "\n",
    "For example, with $x = 5$\n",
    "```python\n",
    "sumx(x)\n",
    "```\n",
    "would return $10 (= 0+1+2+3+4)$."
   ]
  },
  {
   "cell_type": "code",
   "execution_count": 10,
   "metadata": {
    "colab": {},
    "colab_type": "code",
    "id": "QCluEi3-6ugj"
   },
   "outputs": [
    {
     "data": {
      "text/plain": [
       "10"
      ]
     },
     "execution_count": 10,
     "metadata": {},
     "output_type": "execute_result"
    }
   ],
   "source": [
    "# Define your function here.\n",
    "def sumx(x):\n",
    "    total=0\n",
    "    for i in range(x):\n",
    "        total +=i\n",
    "    return total    \n",
    "\n",
    "# Test your function here.\n",
    "sumx(5)"
   ]
  },
  {
   "cell_type": "markdown",
   "metadata": {
    "colab_type": "text",
    "id": "raOYavhA6ugp"
   },
   "source": [
    "## Question 3"
   ]
  },
  {
   "cell_type": "markdown",
   "metadata": {
    "colab_type": "text",
    "id": "kEQYxwYc6ugq"
   },
   "source": [
    "## 3.1"
   ]
  },
  {
   "cell_type": "markdown",
   "metadata": {
    "colab_type": "text",
    "id": "PmkypGmT6ugr"
   },
   "source": [
    "Write a function ```first(l)``` that takes in a list and returns the first element of the list."
   ]
  },
  {
   "cell_type": "code",
   "execution_count": 11,
   "metadata": {
    "colab": {},
    "colab_type": "code",
    "id": "34wxvany6ugs"
   },
   "outputs": [
    {
     "name": "stdout",
     "output_type": "stream",
     "text": [
      "True\n"
     ]
    }
   ],
   "source": [
    "# Define your function here.\n",
    "def first(l):\n",
    "    return l[0]\n",
    "\n",
    "# Test your function here.\n",
    "# Write some of your own test cases as well.\n",
    "print(first([1, 1, 2, 3, 5, 8, 13]) == 1)"
   ]
  },
  {
   "cell_type": "markdown",
   "metadata": {
    "colab_type": "text",
    "id": "kOM1v4296ug4"
   },
   "source": [
    "## 3.2"
   ]
  },
  {
   "cell_type": "markdown",
   "metadata": {
    "colab_type": "text",
    "id": "_BiXV7HO6ug6"
   },
   "source": [
    "Write a function ```last(l)``` that takes in a list`(l)` and returns the last element of the list."
   ]
  },
  {
   "cell_type": "code",
   "execution_count": 12,
   "metadata": {
    "colab": {},
    "colab_type": "code",
    "id": "EzeO7LQF6ug7"
   },
   "outputs": [
    {
     "data": {
      "text/plain": [
       "7"
      ]
     },
     "execution_count": 12,
     "metadata": {},
     "output_type": "execute_result"
    }
   ],
   "source": [
    "# Define your function here.\n",
    "def last(l):\n",
    "    return l[-1]\n",
    "\n",
    "# Test your function here.\n",
    "# Write some of your own test cases as well.\n",
    "last([2, 5, 7])"
   ]
  },
  {
   "cell_type": "markdown",
   "metadata": {
    "colab_type": "text",
    "id": "CYNEB_5o6uhG"
   },
   "source": [
    "## 3.3"
   ]
  },
  {
   "cell_type": "markdown",
   "metadata": {
    "colab_type": "text",
    "id": "pTsVFraS6uhH"
   },
   "source": [
    "Using calls to the functions above, write a function ```extreme(l)``` that takes in a list (`l`) and returns the sum of the first and last element of the list. If the list has length less than 1 return a string saying \"Not possible\".\n"
   ]
  },
  {
   "cell_type": "code",
   "execution_count": 13,
   "metadata": {
    "colab": {},
    "colab_type": "code",
    "id": "y0ULwyRt6uhI"
   },
   "outputs": [
    {
     "data": {
      "text/plain": [
       "8"
      ]
     },
     "execution_count": 13,
     "metadata": {},
     "output_type": "execute_result"
    }
   ],
   "source": [
    "# Define your function here.\n",
    "def extreme(l):\n",
    "    if len(l)<1:\n",
    "        return \"Not possible\"\n",
    "    else:\n",
    "        return first(l)+last(l)\n",
    "\n",
    "# Test your function here.\n",
    "# Write some of your own test cases as well.\n",
    "extreme([2, 3, 6])"
   ]
  },
  {
   "cell_type": "markdown",
   "metadata": {
    "colab_type": "text",
    "id": "-kERPFVa6uhM"
   },
   "source": [
    "## Question 4"
   ]
  },
  {
   "cell_type": "markdown",
   "metadata": {
    "colab_type": "text",
    "id": "UixOofC16uhN"
   },
   "source": [
    "Write a function ```sum(l)``` that given a list`(l)` returns the sum of all the elements in the list.\n",
    "\n",
    "```python\n",
    "sum([]) = 0\n",
    "sum([1,2,3]) = 6\n",
    "```\n",
    "\n",
    "Do this using `for x in l` syntax."
   ]
  },
  {
   "cell_type": "code",
   "execution_count": 14,
   "metadata": {
    "colab": {},
    "colab_type": "code",
    "id": "yhBbujzU6uhN"
   },
   "outputs": [
    {
     "data": {
      "text/plain": [
       "16"
      ]
     },
     "execution_count": 14,
     "metadata": {},
     "output_type": "execute_result"
    }
   ],
   "source": [
    "# Define your function here.\n",
    "def sum(l):\n",
    "    total=0\n",
    "    for i in l:\n",
    "        total +=i\n",
    "    return total\n",
    "\n",
    "# Test your function here.\n",
    "# Write some of your own test cases as well.\n",
    "sum([5, 1, 2, 8])"
   ]
  },
  {
   "cell_type": "markdown",
   "metadata": {
    "colab_type": "text",
    "id": "A_MHCrwJ6uhS"
   },
   "source": [
    "Now do this without using `for x in l` syntax. *Hint: Remember the range function*"
   ]
  },
  {
   "cell_type": "code",
   "execution_count": 17,
   "metadata": {
    "colab": {},
    "colab_type": "code",
    "id": "papzqmH17Vju"
   },
   "outputs": [
    {
     "data": {
      "text/plain": [
       "16"
      ]
     },
     "execution_count": 17,
     "metadata": {},
     "output_type": "execute_result"
    }
   ],
   "source": [
    "# Define your function here.\n",
    "def sum(l):\n",
    "    total =0\n",
    "    for i in range(len(l)):\n",
    "        total += l[i]\n",
    "    return total\n",
    "\n",
    "# Test your function here.\n",
    "# Write some of your own test cases as well.\n",
    "sum([5, 1, 2, 8])"
   ]
  },
  {
   "cell_type": "markdown",
   "metadata": {
    "colab_type": "text",
    "id": "DOeJ1w7z6uhX"
   },
   "source": [
    "## Question 5"
   ]
  },
  {
   "cell_type": "markdown",
   "metadata": {
    "colab_type": "text",
    "id": "QKw4rZPl6uhX"
   },
   "source": [
    "Write a function ```oddval(l)``` that prints all the odd numbers in a list.\n",
    "\n",
    "For example:\n",
    "``` python\n",
    "oddval([5, 2, 8, 17, 32, 2, 8, 9])\n",
    "```\n",
    "should print:\n",
    "\n",
    "``` python\n",
    "5\n",
    "17\n",
    "9\n",
    "``` "
   ]
  },
  {
   "cell_type": "code",
   "execution_count": 19,
   "metadata": {
    "colab": {},
    "colab_type": "code",
    "id": "18KQ0AYQ6uhY"
   },
   "outputs": [
    {
     "name": "stdout",
     "output_type": "stream",
     "text": [
      "5\n",
      "17\n",
      "9\n"
     ]
    }
   ],
   "source": [
    "# Define your function here.\n",
    "def oddval(l):\n",
    "    for x in range(len(l)):\n",
    "        if l[x] % 2 ==0:\n",
    "            continue\n",
    "        else:\n",
    "            print(l[x])\n",
    "\n",
    "# Test your function here.\n",
    "# Write some of your own test cases as well.\n",
    "oddval([5, 2, 8, 17, 32, 2, 8, 9])"
   ]
  },
  {
   "cell_type": "markdown",
   "metadata": {
    "colab_type": "text",
    "id": "rOqIFE9E6uhe"
   },
   "source": [
    "## Question 6"
   ]
  },
  {
   "cell_type": "markdown",
   "metadata": {
    "colab_type": "text",
    "id": "i9p-vAhV6uhe"
   },
   "source": [
    "Write a function ```oddind(l)``` that prints all the values in odd indices.\n",
    "\n",
    "For example: \n",
    "``` python\n",
    "oddind([1, 2, 3, 4, 9, 15])\n",
    "``` \n",
    "should print:\n",
    "``` python\n",
    "2\n",
    "4\n",
    "15\n",
    "```"
   ]
  },
  {
   "cell_type": "code",
   "execution_count": 10,
   "metadata": {
    "colab": {},
    "colab_type": "code",
    "id": "-CCwpTkp6uhf"
   },
   "outputs": [
    {
     "name": "stdout",
     "output_type": "stream",
     "text": [
      "2\n",
      "4\n",
      "15\n"
     ]
    }
   ],
   "source": [
    "# Define your function here.\n",
    "def oddind(l):\n",
    "    for x in range(1,len(l),2):\n",
    "        print(l[x])\n",
    "\n",
    "# Test your function here.\n",
    "# Write some of your own test cases as well.\n",
    "oddind([1, 2, 3, 4, 9, 15])"
   ]
  },
  {
   "cell_type": "markdown",
   "metadata": {
    "colab_type": "text",
    "id": "-do55Gag6uhm"
   },
   "source": [
    "## Question 7"
   ]
  },
  {
   "cell_type": "markdown",
   "metadata": {
    "colab_type": "text",
    "id": "v_TNuzQ_6uhn"
   },
   "source": [
    "Write a function ```isPrime(x)``` that given integer x will return ```True``` if `x` is prime and ```False``` otherwise.\n",
    "\n",
    "Formally, $x$ is prime if and only if $1<i<x$, $(x$ ``` \n",
    "mod \n",
    "``` \n",
    "$ i) \\neq 0$."
   ]
  },
  {
   "cell_type": "code",
   "execution_count": 72,
   "metadata": {
    "colab": {},
    "colab_type": "code",
    "id": "_QAIZlga6uhp"
   },
   "outputs": [
    {
     "data": {
      "text/plain": [
       "False"
      ]
     },
     "execution_count": 72,
     "metadata": {},
     "output_type": "execute_result"
    }
   ],
   "source": [
    "# Define your function here.\n",
    "def isPrime(x):\n",
    "    if x>1:\n",
    "        \n",
    "    # Iterate from 2 to n       \n",
    "    # If num is divisible by any number between  \n",
    "    # 2 and n, it is not prime\n",
    "        for i in range(2, x):\n",
    "            if (x % i) == 0:\n",
    "                return False\n",
    "                break\n",
    "        else:\n",
    "            return True # prime\n",
    "            \n",
    "    else:\n",
    "        print(False)\n",
    "        \n",
    "\n",
    "# Test your function here.\n",
    "# Write some of your own test cases as well.\n",
    "#isPrime(13)\n",
    "#isPrime(51)\n",
    "#isPrime(11)\n",
    "isPrime(4)"
   ]
  },
  {
   "cell_type": "markdown",
   "metadata": {
    "colab_type": "text",
    "id": "dZi1XDh16uhr"
   },
   "source": [
    "Run the cell below to test your `isPrime(x)` function."
   ]
  },
  {
   "cell_type": "code",
   "execution_count": 73,
   "metadata": {
    "colab": {},
    "colab_type": "code",
    "id": "WO9dE3jT6uht"
   },
   "outputs": [
    {
     "name": "stdout",
     "output_type": "stream",
     "text": [
      "All test cases passed!\n"
     ]
    }
   ],
   "source": [
    "def test():\n",
    "    inputs = [4, 2, 25, 11, 13, 51]\n",
    "    expected_output = [False, True, False, True, True, False]\n",
    "    for i in range(len(inputs)):\n",
    "        if (isPrime(inputs[i]) != expected_output[i]):\n",
    "            print(\"Failed on input: \", inputs[i])\n",
    "            return\n",
    "    print(\"All test cases passed!\")\n",
    "\n",
    "\n",
    "test()"
   ]
  },
  {
   "cell_type": "markdown",
   "metadata": {
    "colab_type": "text",
    "id": "wxY4LyEI6uhx"
   },
   "source": [
    "## Question 8"
   ]
  },
  {
   "cell_type": "markdown",
   "metadata": {
    "colab_type": "text",
    "id": "0bDi5TJ46uhz"
   },
   "source": [
    "What does the following code print?"
   ]
  },
  {
   "cell_type": "markdown",
   "metadata": {
    "colab_type": "text",
    "id": "-jJ8uqGb6uh1"
   },
   "source": [
    "```python\n",
    "for i in range(3):\n",
    "    for j in range(3):\n",
    "        print([i, j])\n",
    "```"
   ]
  },
  {
   "cell_type": "code",
   "execution_count": 74,
   "metadata": {
    "colab": {},
    "colab_type": "code",
    "id": "aNRJz4tR6uh2"
   },
   "outputs": [
    {
     "name": "stdout",
     "output_type": "stream",
     "text": [
      "[0, 0]\n",
      "[0, 1]\n",
      "[0, 2]\n",
      "[1, 0]\n",
      "[1, 1]\n",
      "[1, 2]\n",
      "[2, 0]\n",
      "[2, 1]\n",
      "[2, 2]\n"
     ]
    }
   ],
   "source": [
    "# Your answer:\n",
    "for i in range(3):\n",
    "    for j in range(3):\n",
    "        print([i, j])"
   ]
  },
  {
   "cell_type": "markdown",
   "metadata": {
    "colab_type": "text",
    "id": "-87zDfnV6uh7"
   },
   "source": [
    "## Question 9"
   ]
  },
  {
   "cell_type": "markdown",
   "metadata": {
    "colab_type": "text",
    "id": "iOnITSEr6uh8"
   },
   "source": [
    "In this problem, you will be dealing with a set of temperatures over a week represented as floats in a list. After you complete each of the subproblems, run the test cell to verify your solution."
   ]
  },
  {
   "cell_type": "markdown",
   "metadata": {
    "colab_type": "text",
    "id": "y9HUPn7i6uh9"
   },
   "source": [
    "### 9.1"
   ]
  },
  {
   "cell_type": "markdown",
   "metadata": {
    "colab_type": "text",
    "id": "_fObkPuE6uh9"
   },
   "source": [
    "Given a list of temperatures in a week, write a function ```findMin(l)``` that takes in a list of floats and returns the minimum temperature in the list."
   ]
  },
  {
   "cell_type": "code",
   "execution_count": 81,
   "metadata": {
    "colab": {},
    "colab_type": "code",
    "id": "ccAAUwcZ6uh-"
   },
   "outputs": [],
   "source": [
    "# Define your function here\n",
    "def findMin(l):\n",
    "    return min(l)"
   ]
  },
  {
   "cell_type": "code",
   "execution_count": 82,
   "metadata": {
    "colab": {},
    "colab_type": "code",
    "id": "NIU4tREN6uiC"
   },
   "outputs": [
    {
     "name": "stdout",
     "output_type": "stream",
     "text": [
      "All test cases passed!\n"
     ]
    }
   ],
   "source": [
    "# Run this cell to test your function.\n",
    "def test():\n",
    "    # list of test cases\n",
    "    inputs = [[13.25, 14.11, 15.64, 20.53, 17.32, 18.63, 14.90],\n",
    "              [-1.34, 0.0, 5.89, 6.73, 2.54, 4.53, 7.01],\n",
    "              [5.53, 2.63, 0.7, 8.26, 10.1, 6.13, 2.43],\n",
    "              [7.98, 12.34, 10.52, 13.64, 15.42, 14.42, 16.32],\n",
    "              [8.42, 12.542, 13.25, 17.52, 15.24, 10.45, 8.86]]\n",
    "    expected_output = [13.25, -1.34, 0.7, 7.98, 8.42]\n",
    "    for i in range(len(inputs)):\n",
    "        if (findMin(inputs[i]) != expected_output[i]):\n",
    "            print(\"Failed on input: \", inputs[i])\n",
    "            return\n",
    "    print(\"All test cases passed!\")\n",
    "\n",
    "\n",
    "test()"
   ]
  },
  {
   "cell_type": "code",
   "execution_count": 80,
   "metadata": {},
   "outputs": [
    {
     "data": {
      "text/plain": [
       "-6.4"
      ]
     },
     "execution_count": 80,
     "metadata": {},
     "output_type": "execute_result"
    }
   ],
   "source": [
    "c=[-3,2,1.5,-6.4]\n",
    "min(c)"
   ]
  },
  {
   "cell_type": "markdown",
   "metadata": {
    "colab_type": "text",
    "id": "kfjN9URh6uiE"
   },
   "source": [
    "### 9.2"
   ]
  },
  {
   "cell_type": "markdown",
   "metadata": {
    "colab_type": "text",
    "id": "LAZuIJRP6uiE"
   },
   "source": [
    "Now find the average temperture of each week. Given a list of temperatures, write a function ```findAvg(l)``` that returns the average temperature of the list using `for` loop(s)."
   ]
  },
  {
   "cell_type": "code",
   "execution_count": 86,
   "metadata": {
    "colab": {},
    "colab_type": "code",
    "id": "AqLWFcPK6uiF"
   },
   "outputs": [],
   "source": [
    "# Write code here\n",
    "def findAvg(l):\n",
    "    average = sum(l)/len(l)\n",
    "    return average"
   ]
  },
  {
   "cell_type": "code",
   "execution_count": 87,
   "metadata": {
    "colab": {},
    "colab_type": "code",
    "id": "-QcXXlyo6uiH"
   },
   "outputs": [
    {
     "name": "stdout",
     "output_type": "stream",
     "text": [
      "All test cases passed!\n"
     ]
    }
   ],
   "source": [
    "def test():\n",
    "    # list of test cases\n",
    "    inputs = [[13.25, 14.11, 15.64, 20.53, 17.32, 18.63, 14.90],\n",
    "              [-1.34, 0.0, 5.89, 6.73, 2.54, 4.53, 7.01],\n",
    "              [5.53, 2.63, 0.7, 8.26, 10.1, 6.13, 2.43],\n",
    "              [7.98, 12.34, 10.52, 13.64, 15.42, 14.42, 16.32],\n",
    "              [8.42, 12.542, 13.25, 17.52, 15.24, 10.45, 8.86]]\n",
    "    expected_output = [16.34, 3.6228571428571428,\n",
    "                       5.111428571428571, 12.94857142857143, 12.325999999999999]\n",
    "    for i in range(len(inputs)):\n",
    "        if (abs(findAvg(inputs[i]) - expected_output[i]) > 0.1):\n",
    "            print(\"Failed on input: \", inputs[i])\n",
    "            return\n",
    "    print(\"All test cases passed!\")\n",
    "\n",
    "\n",
    "test()"
   ]
  },
  {
   "cell_type": "markdown",
   "metadata": {
    "colab_type": "text",
    "id": "PlXtuiQd6uiJ"
   },
   "source": [
    "### 9.3"
   ]
  },
  {
   "cell_type": "markdown",
   "metadata": {
    "colab_type": "text",
    "id": "9E02WCoa6uiJ"
   },
   "source": [
    "Now you are given a list of 5 cities' temperatures in a certain week. The first is Addis, second is Harar, followed by Lalibela, Aksum, and Gondar. Write a function ```coldestCity(l)``` that takes in a list of lists, where each list contains 7 floats, and returns the index of the city with the minimum average temperature. Then, write the city name corresponding to that index in the cell provided below the test function.\n",
    "\n",
    "For example:\n",
    "     \n",
    "   `coldestCity([22,44,33,11,10,9,8],[21,22,23,24,25,26,27])`\n",
    "  \n",
    " Should return:\n",
    "   19.6\n",
    "\n",
    "*Hint: It may be useful to call ```findMin``` and  ```findAvg```  in this function.*"
   ]
  },
  {
   "cell_type": "code",
   "execution_count": 90,
   "metadata": {
    "colab": {},
    "colab_type": "code",
    "id": "XgiALpZX6uiK"
   },
   "outputs": [],
   "source": [
    "# Define coldestCity here.\n",
    "def coldestCity(l):\n",
    "    cold=[]\n",
    "    \n",
    "    for i in range(len(l)):  #the average temp of each city\n",
    "        cold.append(findAvg(l[i]))\n",
    "    \n",
    "    mintemp = findMin(cold)\n",
    "    for j in range(len(cold)):  # the minimum average temp\n",
    "        if cold[j] == mintemp:\n",
    "            return j"
   ]
  },
  {
   "cell_type": "code",
   "execution_count": 91,
   "metadata": {
    "colab": {},
    "colab_type": "code",
    "id": "O7Gu5GC76uiO"
   },
   "outputs": [
    {
     "name": "stdout",
     "output_type": "stream",
     "text": [
      "All tests passed!\n"
     ]
    }
   ],
   "source": [
    "# Run this cell to test your function.\n",
    "def test():\n",
    "    temps = [[13.25, 14.11, 15.64, 20.53, 17.32, 18.63, 14.90],\n",
    "             [-1.34, 0.0, 5.89, 6.73, 2.54, 4.53, 7.01],\n",
    "             [5.53, 2.63, 0.7, 8.26, 10.1, 6.13, 2.43],\n",
    "             [7.98, 12.34, 10.52, 13.64, 15.42, 14.42, 16.32],\n",
    "             [8.42, 12.542, 13.25, 17.52, 15.24, 10.45, 8.86]]\n",
    "    expected_output = 1\n",
    "    if coldestCity(temps) != expected_output:\n",
    "        print(\"Test Failed\")\n",
    "    else:\n",
    "        print(\"All tests passed!\")\n",
    "\n",
    "\n",
    "test()"
   ]
  },
  {
   "cell_type": "markdown",
   "metadata": {
    "colab_type": "text",
    "id": "TvcHfeFq6uiU"
   },
   "source": [
    "## Question 10"
   ]
  },
  {
   "cell_type": "markdown",
   "metadata": {
    "colab_type": "text",
    "id": "iw8yAXwM6uiV"
   },
   "source": [
    "Write a function ```mostCommon(s)``` that takes in a string and returns the most common character in a string. If no character occurs more often than any other character, return any character in the string.\n",
    "\n",
    "For example ```mostCommon(\"salaam\")``` should give \"a\".\n",
    "\n",
    "Something like ```mostCommon(\"aabbbcddeeeee\")``` should give \"e\".\n",
    "\n",
    "Something like ```mostCommon(\"abc\")``` could give \"a\", \"b\", or \"c\". "
   ]
  },
  {
   "cell_type": "code",
   "execution_count": 2,
   "metadata": {
    "colab": {},
    "colab_type": "code",
    "id": "EFxT3gzF6uiV"
   },
   "outputs": [
    {
     "name": "stdout",
     "output_type": "stream",
     "text": [
      "3\n"
     ]
    },
    {
     "data": {
      "text/plain": [
       "'\\ndef common(y):\\n    set1 = set()\\n    for i in y:\\n        set1.add(i)\\n    for i in set1:\\n        dict1[i] = 0\\n    if i in dict1:\\n        dict1[i] += 1\\n    print(max(dict1.values())\\n    #print(set1)\\n\\ncommon(\"salaam\")'"
      ]
     },
     "execution_count": 2,
     "metadata": {},
     "output_type": "execute_result"
    }
   ],
   "source": [
    "# Write code here.\n",
    "\n",
    "def mostCommon(s): #This one works but adds one to the letter count? Gotta fix this bug\n",
    "    master = {}\n",
    "    for i in s:\n",
    "        if i not in master:\n",
    "            master[i] = 0\n",
    "        if i in master:\n",
    "            master[i] +=1\n",
    "    print (max(master.values()))\n",
    "    #print(master)\n",
    "                \n",
    "            \n",
    "# Test your function here.\n",
    "mostCommon(\"aaa\")\n",
    "\n",
    "\"\"\"\n",
    "def common(y):\n",
    "    set1 = set()\n",
    "    for i in y:\n",
    "        set1.add(i)\n",
    "    for i in set1:\n",
    "        dict1[i] = 0\n",
    "    if i in dict1:\n",
    "        dict1[i] += 1\n",
    "    print(max(dict1.values())\n",
    "    #print(set1)\n",
    "\n",
    "common(\"salaam\")\"\"\""
   ]
  },
  {
   "cell_type": "markdown",
   "metadata": {
    "colab_type": "text",
    "id": "F1G7LhF-6uib"
   },
   "source": [
    "Run the cell below. If what you wrote is correct it should output : \"TEST CASES PASSED !\""
   ]
  },
  {
   "cell_type": "code",
   "execution_count": 3,
   "metadata": {
    "colab": {},
    "colab_type": "code",
    "id": "A0kv_PPV6uic"
   },
   "outputs": [
    {
     "name": "stdout",
     "output_type": "stream",
     "text": [
      "3\n",
      "TEST CASE FAILED\n",
      "TEST CASES PASSED !\n"
     ]
    }
   ],
   "source": [
    "# Test cases\n",
    "\n",
    "\n",
    "def test():\n",
    "    tests = [\"aaa\", \"The quick Brown Fox jumped over the lazy Fox\",\n",
    "             \"bdabbbd\", \"bbbacedddde\"]\n",
    "    answers = ['a', ' ', 'b', 'd']\n",
    "    for i in range(len(tests)):\n",
    "        if mostCommon(tests[i]) != answers[i]:\n",
    "            print(\"TEST CASE FAILED\")\n",
    "            break\n",
    "    print(\"TEST CASES PASSED !\")\n",
    "\n",
    "\n",
    "test()"
   ]
  },
  {
   "cell_type": "markdown",
   "metadata": {
    "colab_type": "text",
    "id": "QXDjrW_G6uik"
   },
   "source": [
    "## Question 11"
   ]
  },
  {
   "cell_type": "markdown",
   "metadata": {
    "colab_type": "text",
    "id": "VHlxzelq6uik"
   },
   "source": [
    "Write a function `removeCharacter(s, c)` that given a string (`s`) and a character (`c`), removes all the instances of character `c` in `s`. This function should return a modified string.\n",
    "\n",
    "For example `removeCharacter(\"hello\", \"e\") = \"hllo\"`\n",
    "\n",
    "Another example `removeCharacter(\"hello\", \"f\") = \"hello\"`"
   ]
  },
  {
   "cell_type": "code",
   "execution_count": 12,
   "metadata": {
    "colab": {},
    "colab_type": "code",
    "id": "afzddvvt6uil"
   },
   "outputs": [
    {
     "data": {
      "text/plain": [
       "'hllwo'"
      ]
     },
     "execution_count": 12,
     "metadata": {},
     "output_type": "execute_result"
    }
   ],
   "source": [
    "# Write code here\n",
    "def removeCharacter(s,c):\n",
    "    if c in s:\n",
    "        return s.replace(c,\"\")\n",
    "\n",
    "# Test your function here.\n",
    "removeCharacter(\"helleweo\", \"e\")"
   ]
  },
  {
   "cell_type": "markdown",
   "metadata": {
    "colab_type": "text",
    "id": "_Mvd0GAz6uio"
   },
   "source": [
    "Run the cell below. If what you wrote is correct it should output : \"You've Done Well Friend!\""
   ]
  },
  {
   "cell_type": "code",
   "execution_count": 13,
   "metadata": {
    "colab": {},
    "colab_type": "code",
    "id": "GaXY9aJy6uio"
   },
   "outputs": [
    {
     "name": "stdout",
     "output_type": "stream",
     "text": [
      "You've Done Well Friend!\n"
     ]
    }
   ],
   "source": [
    "def test():\n",
    "    tests = [(\"hello world\", \"h\"), (\"Jessica\", \"c\"), (\"ThunderStick\", \"r\")]\n",
    "    answers = ['ello world', 'Jessia', 'ThundeStick']\n",
    "    if [removeCharacter(*x) for x in tests] == answers:\n",
    "        print(\"You've Done Well Friend!\")\n",
    "    else:\n",
    "        print(\"Errors ! Errors ! Errors!\")\n",
    "\n",
    "\n",
    "test()"
   ]
  }
 ],
 "metadata": {
  "colab": {
   "collapsed_sections": [],
   "name": "probs2b.ipynb",
   "provenance": [],
   "version": "0.3.2"
  },
  "kernelspec": {
   "display_name": "Python 3",
   "language": "python",
   "name": "python3"
  },
  "language_info": {
   "codemirror_mode": {
    "name": "ipython",
    "version": 3
   },
   "file_extension": ".py",
   "mimetype": "text/x-python",
   "name": "python",
   "nbconvert_exporter": "python",
   "pygments_lexer": "ipython3",
   "version": "3.6.4"
  }
 },
 "nbformat": 4,
 "nbformat_minor": 1
}
