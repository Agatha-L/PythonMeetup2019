{
 "cells": [
  {
   "cell_type": "markdown",
   "metadata": {
    "colab_type": "text",
    "id": "fh3TuPnozjDw"
   },
   "source": [
    "# Lecture 1, Part 1 Exercises \n",
    "\n"
   ]
  },
  {
   "cell_type": "markdown",
   "metadata": {
    "colab_type": "text",
    "id": "PjxbdiutzjEX"
   },
   "source": [
    "## Question 1"
   ]
  },
  {
   "cell_type": "markdown",
   "metadata": {
    "colab_type": "text",
    "id": "1gtUFha4zjEf"
   },
   "source": [
    "_Use code to determine the answers to the question 1.1-1.4_"
   ]
  },
  {
   "cell_type": "markdown",
   "metadata": {
    "colab_type": "text",
    "id": "yoQwowxQzjEj"
   },
   "source": [
    "### 1.1 \n",
    "What is the type of ```1```? Use the function ```type``` to determine. "
   ]
  },
  {
   "cell_type": "code",
   "execution_count": null,
   "metadata": {},
   "outputs": [],
   "source": [
    "type(1)"
   ]
  },
  {
   "cell_type": "code",
   "execution_count": null,
   "metadata": {
    "colab": {},
    "colab_type": "code",
    "id": "LiOZYcDhzjEo"
   },
   "outputs": [],
   "source": []
  },
  {
   "cell_type": "markdown",
   "metadata": {
    "colab_type": "text",
    "id": "vakteEunzjFA"
   },
   "source": [
    "### 1.2 \n",
    "What about the type of ```1.0```? "
   ]
  },
  {
   "cell_type": "code",
   "execution_count": null,
   "metadata": {},
   "outputs": [],
   "source": [
    "type(1.0)"
   ]
  },
  {
   "cell_type": "code",
   "execution_count": null,
   "metadata": {
    "colab": {},
    "colab_type": "code",
    "id": "vuDlygrUzjFE"
   },
   "outputs": [],
   "source": []
  },
  {
   "cell_type": "markdown",
   "metadata": {
    "colab_type": "text",
    "id": "lyIE0CqIzjFj"
   },
   "source": [
    "### 1.3 \n",
    "What is the resulting type of adding an ```1``` and ```1```? "
   ]
  },
  {
   "cell_type": "code",
   "execution_count": null,
   "metadata": {},
   "outputs": [],
   "source": [
    "type(1+1)"
   ]
  },
  {
   "cell_type": "code",
   "execution_count": null,
   "metadata": {
    "colab": {},
    "colab_type": "code",
    "id": "HFeATOwszjFp"
   },
   "outputs": [],
   "source": []
  },
  {
   "cell_type": "markdown",
   "metadata": {
    "colab_type": "text",
    "id": "WJZhT0MlzjF7"
   },
   "source": [
    "### 1.4\n",
    "What is different about the resulting type of adding ```1``` and ```1.0```? "
   ]
  },
  {
   "cell_type": "code",
   "execution_count": null,
   "metadata": {
    "colab": {},
    "colab_type": "code",
    "id": "W-niaeRAzjF_"
   },
   "outputs": [],
   "source": [
    "type(1+1.0)"
   ]
  },
  {
   "cell_type": "markdown",
   "metadata": {
    "colab_type": "text",
    "id": "IQnNwnLjzjGS"
   },
   "source": [
    "### 1.5\n",
    "So, what can you say about the resulting type of adding an ```int``` and a ```float```?"
   ]
  },
  {
   "cell_type": "code",
   "execution_count": null,
   "metadata": {
    "colab": {},
    "colab_type": "code",
    "id": "cSawBtG4zjGX"
   },
   "outputs": [],
   "source": []
  },
  {
   "cell_type": "markdown",
   "metadata": {
    "colab_type": "text",
    "id": "TXYEtJy4zjG3"
   },
   "source": [
    "## Question 2"
   ]
  },
  {
   "cell_type": "markdown",
   "metadata": {
    "colab_type": "text",
    "id": "vPOkYk9azjG8"
   },
   "source": [
    "_Use code to determine the answers to the question 2.1-2.4_"
   ]
  },
  {
   "cell_type": "markdown",
   "metadata": {
    "colab_type": "text",
    "id": "nlUsy1FBzjHC"
   },
   "source": [
    "### 2.1\n",
    "What is the type of `\"Jelani\"`?"
   ]
  },
  {
   "cell_type": "code",
   "execution_count": null,
   "metadata": {
    "colab": {},
    "colab_type": "code",
    "id": "TEErEdStzjHJ"
   },
   "outputs": [],
   "source": [
    "type(\"Jelani\")"
   ]
  },
  {
   "cell_type": "markdown",
   "metadata": {
    "colab_type": "text",
    "id": "-ESGxIE3zjHX"
   },
   "source": [
    "### 2.2\n",
    "What is the type of ```'Computer'```?"
   ]
  },
  {
   "cell_type": "code",
   "execution_count": null,
   "metadata": {
    "colab": {},
    "colab_type": "code",
    "id": "fYD4eYF-zjHb"
   },
   "outputs": [],
   "source": [
    "type(\"Computer\")"
   ]
  },
  {
   "cell_type": "markdown",
   "metadata": {
    "colab_type": "text",
    "id": "OS5JS87OzjHs"
   },
   "source": [
    "### 2.3\n",
    "What happens when you add ```\"Jelani\"``` and ```'Computer'```? "
   ]
  },
  {
   "cell_type": "code",
   "execution_count": null,
   "metadata": {
    "colab": {},
    "colab_type": "code",
    "id": "mAAG2R0KzjHx"
   },
   "outputs": [],
   "source": [
    "\"Jelani\" + \"Computer\""
   ]
  },
  {
   "cell_type": "markdown",
   "metadata": {
    "colab_type": "text",
    "id": "gUL26CuVzjH9"
   },
   "source": [
    "### 2.4\n",
    "What is the resulting type of adding ```\"Jelani\"``` and ```'Computer'```?"
   ]
  },
  {
   "cell_type": "code",
   "execution_count": null,
   "metadata": {
    "colab": {},
    "colab_type": "code",
    "id": "kcuj-u56zjH_"
   },
   "outputs": [],
   "source": [
    "type(\"Jelani\" + \"Computer\")"
   ]
  },
  {
   "cell_type": "markdown",
   "metadata": {
    "colab_type": "text",
    "id": "JtYpK1tMzjIR"
   },
   "source": [
    "### 2.5\n",
    "Is there a difference between single quotes and double quotes?"
   ]
  },
  {
   "cell_type": "code",
   "execution_count": null,
   "metadata": {
    "colab": {},
    "colab_type": "code",
    "id": "lRcOVAT4zjIV"
   },
   "outputs": [],
   "source": [
    "print(\"How\\'s your day?\")\n",
    "print(\"Her title is 'Majesty the Queen'\")"
   ]
  },
  {
   "cell_type": "markdown",
   "metadata": {
    "colab_type": "text",
    "id": "M6DCViJHzjIh"
   },
   "source": [
    "### 2.6\n",
    "What happens when you add two strings (with the `+` operator)? "
   ]
  },
  {
   "cell_type": "code",
   "execution_count": null,
   "metadata": {
    "colab": {},
    "colab_type": "code",
    "id": "9LiLT2uYzjIq"
   },
   "outputs": [],
   "source": []
  },
  {
   "cell_type": "markdown",
   "metadata": {
    "colab_type": "text",
    "id": "vxfbKcPMzjJJ"
   },
   "source": [
    "## Question 3"
   ]
  },
  {
   "cell_type": "markdown",
   "metadata": {
    "colab_type": "text",
    "id": "wMxcoy5IzjJM"
   },
   "source": [
    "_Use code to determine the answers to the question 3.1_"
   ]
  },
  {
   "cell_type": "markdown",
   "metadata": {
    "colab_type": "text",
    "id": "gy0CCdRXzjJP"
   },
   "source": [
    "### 3.1\n",
    "What is the resulting type of adding ```3``` and ```'3'```? "
   ]
  },
  {
   "cell_type": "code",
   "execution_count": null,
   "metadata": {
    "colab": {},
    "colab_type": "code",
    "id": "AAyZPOhKzjJS"
   },
   "outputs": [],
   "source": [
    "type(3+'3')\n",
    "#int and string can't be concatenated"
   ]
  },
  {
   "cell_type": "markdown",
   "metadata": {
    "colab_type": "text",
    "id": "-x0AHBIpzjJo"
   },
   "source": [
    "### 3.2\n",
    "Can you explain why the error occured?"
   ]
  },
  {
   "cell_type": "markdown",
   "metadata": {
    "colab_type": "text",
    "id": "cCtEGZ6f8oCy"
   },
   "source": []
  },
  {
   "cell_type": "markdown",
   "metadata": {
    "colab_type": "text",
    "id": "_TH-WBDJzjJ7"
   },
   "source": [
    "## Question 4"
   ]
  },
  {
   "cell_type": "markdown",
   "metadata": {
    "colab_type": "text",
    "id": "WI4YykV_zjJ_"
   },
   "source": [
    "_Use code to determine the answers to the question 4.1-4.4_"
   ]
  },
  {
   "cell_type": "markdown",
   "metadata": {
    "colab_type": "text",
    "id": "1GliqIUrzjKD"
   },
   "source": [
    "### 4.1\n",
    "Make a list that contains ```4``` and ```5.0```. "
   ]
  },
  {
   "cell_type": "code",
   "execution_count": null,
   "metadata": {
    "colab": {},
    "colab_type": "code",
    "id": "j1r1vPxozjKF"
   },
   "outputs": [],
   "source": [
    "x=[4,5.0]\n",
    "x"
   ]
  },
  {
   "cell_type": "markdown",
   "metadata": {
    "colab_type": "text",
    "id": "lMmCvSyCzjKz"
   },
   "source": [
    "### 4.2\n",
    "Can you make a list that has ```1```, ```2``` and ```\"Jelani\"```in it? "
   ]
  },
  {
   "cell_type": "code",
   "execution_count": null,
   "metadata": {
    "colab": {},
    "colab_type": "code",
    "id": "ZXa6FVA2zjK1"
   },
   "outputs": [],
   "source": [
    "y=[1,2,\"Jelani\"]\n",
    "y"
   ]
  },
  {
   "cell_type": "markdown",
   "metadata": {
    "colab_type": "text",
    "id": "szQxWidrzjK8"
   },
   "source": [
    "### 4.3\n",
    "Can you make a list that contains ```1```, ```2```, ```\"Jelani\"```, and ```[4, 5.0]```? "
   ]
  },
  {
   "cell_type": "code",
   "execution_count": null,
   "metadata": {
    "colab": {},
    "colab_type": "code",
    "id": "DyCTAOLOzjK_"
   },
   "outputs": [],
   "source": [
    "y + x"
   ]
  },
  {
   "cell_type": "markdown",
   "metadata": {
    "colab_type": "text",
    "id": "tOSK_yCdzjLS"
   },
   "source": [
    "### 4.4\n",
    "Think about another type we haven't used in Question 4. Can you put it in the list of ```[1, 2.0]```?  "
   ]
  },
  {
   "cell_type": "code",
   "execution_count": null,
   "metadata": {
    "colab": {},
    "colab_type": "code",
    "id": "UK_vaeenzjLU"
   },
   "outputs": [],
   "source": [
    "#boolean\n",
    "y.append(True)"
   ]
  },
  {
   "cell_type": "code",
   "execution_count": null,
   "metadata": {},
   "outputs": [],
   "source": [
    "y"
   ]
  },
  {
   "cell_type": "markdown",
   "metadata": {
    "colab_type": "text",
    "id": "ovUALfxpzjLe"
   },
   "source": [
    "### 4.5\n",
    "What types can lists contain?"
   ]
  },
  {
   "cell_type": "code",
   "execution_count": null,
   "metadata": {
    "colab": {},
    "colab_type": "code",
    "id": "Gntbzgc-zjLi"
   },
   "outputs": [],
   "source": [
    "type(y)"
   ]
  },
  {
   "cell_type": "markdown",
   "metadata": {
    "colab_type": "text",
    "id": "hRn9fN2czjLs"
   },
   "source": [
    "### 4.6\n",
    "Add lists ```[5, 6, 'pom']``` and ```[True, 12, 5.0]``` together. What happens? "
   ]
  },
  {
   "cell_type": "code",
   "execution_count": null,
   "metadata": {
    "colab": {},
    "colab_type": "code",
    "id": "o2L1OXK1zjLu"
   },
   "outputs": [],
   "source": [
    "a = [5, 6, 'pom']\n",
    "b = [True, 12, 5.0]\n",
    "c = a + b  #concatenation\n",
    "c  "
   ]
  },
  {
   "cell_type": "markdown",
   "metadata": {
    "colab_type": "text",
    "id": "x1631alMzjL6"
   },
   "source": [
    "## Question 5"
   ]
  },
  {
   "cell_type": "markdown",
   "metadata": {
    "colab_type": "text",
    "id": "o3rx_26bzjL8"
   },
   "source": [
    "_Use code to determine the answers to the question 5.1-5.4_"
   ]
  },
  {
   "cell_type": "markdown",
   "metadata": {
    "colab_type": "text",
    "id": "hfUep0U-zjME"
   },
   "source": [
    "### 5.1\n",
    "Multiply ```5``` and ```4```."
   ]
  },
  {
   "cell_type": "code",
   "execution_count": null,
   "metadata": {
    "colab": {},
    "colab_type": "code",
    "id": "_JdfHcSqzjMH"
   },
   "outputs": [],
   "source": [
    "5 * 4"
   ]
  },
  {
   "cell_type": "markdown",
   "metadata": {
    "colab_type": "text",
    "id": "etox1HqXzjMX"
   },
   "source": [
    "### 5.2\n",
    "Multiply ```'Shiro'``` by ```3```."
   ]
  },
  {
   "cell_type": "code",
   "execution_count": null,
   "metadata": {
    "colab": {},
    "colab_type": "code",
    "id": "Z9dyob6dzjMa"
   },
   "outputs": [],
   "source": [
    "'Shiro ' * 3"
   ]
  },
  {
   "cell_type": "markdown",
   "metadata": {
    "colab_type": "text",
    "id": "WnztKM1jzjMn"
   },
   "source": [
    "### 5.3\n",
    "Multiply ```5.0``` and ```4```."
   ]
  },
  {
   "cell_type": "code",
   "execution_count": null,
   "metadata": {
    "colab": {},
    "colab_type": "code",
    "id": "x-JJ9HwozjMq"
   },
   "outputs": [],
   "source": [
    "5.0 * 4"
   ]
  },
  {
   "cell_type": "markdown",
   "metadata": {
    "colab_type": "text",
    "id": "pGDFXy3nzjM9"
   },
   "source": [
    "### 5.4\n",
    "Multiply ```['Shiro', 5]``` by ```4```."
   ]
  },
  {
   "cell_type": "code",
   "execution_count": null,
   "metadata": {
    "colab": {},
    "colab_type": "code",
    "id": "ivlPzBNvzjNA"
   },
   "outputs": [],
   "source": [
    "['Shiro', 5] * 4"
   ]
  },
  {
   "cell_type": "markdown",
   "metadata": {
    "colab_type": "text",
    "id": "U0Z_sTj6zjNP"
   },
   "source": [
    "### 5.5\n",
    "What patterns emerge when you multiply different types with an integer? "
   ]
  },
  {
   "cell_type": "markdown",
   "metadata": {
    "colab_type": "text",
    "id": "DKRFEmKJ81Pa"
   },
   "source": []
  },
  {
   "cell_type": "markdown",
   "metadata": {
    "colab_type": "text",
    "id": "Tlr__Jm7zjNd"
   },
   "source": [
    "## Question 6\n",
    "\n"
   ]
  },
  {
   "cell_type": "markdown",
   "metadata": {
    "colab_type": "text",
    "id": "mr_pak-dzjOL"
   },
   "source": [
    "### 6.1\n",
    "Are ```3``` and ```'3'``` equivalent? Use code to confirm. "
   ]
  },
  {
   "cell_type": "code",
   "execution_count": null,
   "metadata": {
    "colab": {},
    "colab_type": "code",
    "id": "QSa8QhZUzjON"
   },
   "outputs": [],
   "source": [
    "type(3)"
   ]
  },
  {
   "cell_type": "code",
   "execution_count": null,
   "metadata": {},
   "outputs": [],
   "source": [
    "type('3')"
   ]
  },
  {
   "cell_type": "markdown",
   "metadata": {
    "colab_type": "text",
    "id": "6ZUyfq03zjOV"
   },
   "source": [
    "### 6.2\n",
    "Are ```\"Jelani\"``` and ```\"jelani\"``` equivalent? Use code to confirm. "
   ]
  },
  {
   "cell_type": "code",
   "execution_count": null,
   "metadata": {
    "colab": {},
    "colab_type": "code",
    "id": "T6_jDq2EzjOW"
   },
   "outputs": [],
   "source": [
    "\"Jelani\" == \"jelani\""
   ]
  },
  {
   "cell_type": "markdown",
   "metadata": {
    "colab_type": "text",
    "id": "TFH4RN6YzjOc"
   },
   "source": [
    "### 6.3\n",
    "What is the result of ```(not False) == True```? "
   ]
  },
  {
   "cell_type": "code",
   "execution_count": null,
   "metadata": {
    "colab": {},
    "colab_type": "code",
    "id": "rDRYODJZzjOd"
   },
   "outputs": [],
   "source": [
    "(not False) == True"
   ]
  },
  {
   "cell_type": "markdown",
   "metadata": {
    "colab_type": "text",
    "id": "8c5-cSN-zjOs"
   },
   "source": [
    "## Question 7"
   ]
  },
  {
   "cell_type": "markdown",
   "metadata": {
    "colab_type": "text",
    "id": "L5UPycg-zjOt"
   },
   "source": [
    "### 7.1\n",
    "Define a variable ```x```, that has a value of ```5```. "
   ]
  },
  {
   "cell_type": "code",
   "execution_count": null,
   "metadata": {
    "colab": {},
    "colab_type": "code",
    "id": "M-7O5a-JzjOv"
   },
   "outputs": [],
   "source": [
    "x = 5"
   ]
  },
  {
   "cell_type": "markdown",
   "metadata": {
    "colab_type": "text",
    "id": "zBVhxkKMzjO2"
   },
   "source": [
    "### 7.2\n",
    "Define a variable ```y```, that has a value of ```x```. "
   ]
  },
  {
   "cell_type": "code",
   "execution_count": null,
   "metadata": {
    "colab": {},
    "colab_type": "code",
    "id": "W5oQ3wyrzjO3"
   },
   "outputs": [],
   "source": [
    "y = x"
   ]
  },
  {
   "cell_type": "markdown",
   "metadata": {
    "colab_type": "text",
    "id": "iFMa1mHrzjO9"
   },
   "source": [
    "### 7.3\n",
    "What is the value of ```y```? "
   ]
  },
  {
   "cell_type": "code",
   "execution_count": null,
   "metadata": {
    "colab": {},
    "colab_type": "code",
    "id": "LmNI_bIazjO-"
   },
   "outputs": [],
   "source": [
    "y"
   ]
  },
  {
   "cell_type": "markdown",
   "metadata": {
    "colab_type": "text",
    "id": "-1a_vMUnzjPD"
   },
   "source": [
    "### 7.4\n",
    "Change ```x``` to ```4```. What is the value of ```y```? "
   ]
  },
  {
   "cell_type": "code",
   "execution_count": null,
   "metadata": {
    "colab": {},
    "colab_type": "code",
    "id": "zBDjO2KbzjPF"
   },
   "outputs": [],
   "source": [
    "x = 4\n",
    "y"
   ]
  },
  {
   "cell_type": "markdown",
   "metadata": {
    "colab_type": "text",
    "id": "_s3wCQgGzjPO"
   },
   "source": [
    "### 7.5\n",
    "Define a variable ```z```, that has a value of the sum of ```x``` and ```y```"
   ]
  },
  {
   "cell_type": "code",
   "execution_count": null,
   "metadata": {
    "colab": {},
    "colab_type": "code",
    "id": "MHIt7cdWzjPQ"
   },
   "outputs": [],
   "source": [
    "z = x + y"
   ]
  },
  {
   "cell_type": "markdown",
   "metadata": {
    "colab_type": "text",
    "id": "pPUKjYEfzjPc"
   },
   "source": [
    "### 7.6\n",
    "Assign ```x``` another value, ```12```. What are the values of ```y``` and ```z```? "
   ]
  },
  {
   "cell_type": "code",
   "execution_count": null,
   "metadata": {
    "colab": {},
    "colab_type": "code",
    "id": "uIJME8kazjPe"
   },
   "outputs": [],
   "source": [
    "x = 12\n",
    "z\n",
    "y"
   ]
  },
  {
   "cell_type": "markdown",
   "metadata": {
    "colab_type": "text",
    "id": "3zdY03w0zjOj"
   },
   "source": [
    "### 7.7\n",
    "Define a variable ```x``` and assign it the value of ```False```,  **but without using the keyword `False`**. \n",
    "\n",
    "Hint: You can do it using one special operator."
   ]
  },
  {
   "cell_type": "code",
   "execution_count": null,
   "metadata": {
    "colab": {},
    "colab_type": "code",
    "id": "L94xAZ9Z9aRY"
   },
   "outputs": [],
   "source": [
    "x = not True\n",
    "x"
   ]
  },
  {
   "cell_type": "markdown",
   "metadata": {
    "colab_type": "text",
    "id": "OPXbR38HzjPm"
   },
   "source": [
    "## Question 8"
   ]
  },
  {
   "cell_type": "markdown",
   "metadata": {
    "colab_type": "text",
    "id": "JYQFw6qfzjPo"
   },
   "source": [
    "### 8.1\n",
    "Given the following lines of code, what is the value of the variable ```seven```? "
   ]
  },
  {
   "cell_type": "markdown",
   "metadata": {
    "colab_type": "text",
    "id": "9m2pdJ4QzjPq"
   },
   "source": [
    "```python\n",
    "seven = 8\n",
    "```"
   ]
  },
  {
   "cell_type": "code",
   "execution_count": null,
   "metadata": {
    "colab": {},
    "colab_type": "code",
    "id": "VGKOFVdTzjPs"
   },
   "outputs": [],
   "source": [
    "seven = 8\n",
    "seven"
   ]
  },
  {
   "cell_type": "markdown",
   "metadata": {
    "colab_type": "text",
    "id": "AxYGPLMfzjPz"
   },
   "source": [
    "### 8.2\n",
    "Given the following lines of code, are the variables ```shiro``` and ```Shiro``` equivalent? "
   ]
  },
  {
   "cell_type": "code",
   "execution_count": null,
   "metadata": {
    "colab": {},
    "colab_type": "code",
    "id": "ZwyxT1aEzjP8"
   },
   "outputs": [],
   "source": [
    "shiro = 10\n",
    "Shiro = 12\n",
    "shiro == Shiro"
   ]
  },
  {
   "cell_type": "markdown",
   "metadata": {
    "colab_type": "text",
    "id": "5WSDbPAwzjQJ"
   },
   "source": [
    "## Question 9"
   ]
  },
  {
   "cell_type": "markdown",
   "metadata": {
    "colab_type": "text",
    "id": "Jw5IpadlzjQM"
   },
   "source": [
    "### 9.1\n",
    "Define a variable ```x``` that has the value ```10``` times ```20```.\n"
   ]
  },
  {
   "cell_type": "code",
   "execution_count": null,
   "metadata": {
    "colab": {},
    "colab_type": "code",
    "id": "P9eu6VbqzjQQ"
   },
   "outputs": [],
   "source": [
    "x = 10 * 20"
   ]
  },
  {
   "cell_type": "markdown",
   "metadata": {
    "colab_type": "text",
    "id": "R_uf0e4SzjQi"
   },
   "source": [
    "### 9.2\n",
    "Now increment `x` by 3."
   ]
  },
  {
   "cell_type": "code",
   "execution_count": null,
   "metadata": {
    "colab": {},
    "colab_type": "code",
    "id": "lirsaov9zjQk"
   },
   "outputs": [],
   "source": [
    "x + 3"
   ]
  },
  {
   "cell_type": "markdown",
   "metadata": {
    "colab_type": "text",
    "id": "vJsa2wTG58fF"
   },
   "source": [
    "Can you increment `x` by 3 in a different way (using a different operator)?"
   ]
  },
  {
   "cell_type": "code",
   "execution_count": null,
   "metadata": {
    "colab": {},
    "colab_type": "code",
    "id": "q-bb4lFK6Cg9"
   },
   "outputs": [],
   "source": [
    "x +=3\n",
    "x"
   ]
  },
  {
   "cell_type": "markdown",
   "metadata": {
    "colab_type": "text",
    "id": "MaYucDnfzjRA"
   },
   "source": [
    "### 9.3\n",
    "Find the remainder of ```78``` divided by ```14``` using one operator from lecture. For example - \n",
    "\n",
    "$16 = 5 * 3 + 1$ (1 is the remainder). "
   ]
  },
  {
   "cell_type": "code",
   "execution_count": null,
   "metadata": {
    "colab": {},
    "colab_type": "code",
    "id": "ASBdD-jYzjRK"
   },
   "outputs": [],
   "source": [
    "78 % 14"
   ]
  },
  {
   "cell_type": "code",
   "execution_count": null,
   "metadata": {},
   "outputs": [],
   "source": [
    "16 % 15"
   ]
  },
  {
   "cell_type": "markdown",
   "metadata": {
    "colab_type": "text",
    "id": "4qmkRp6PzjRS"
   },
   "source": [
    "### 9.4\n",
    "Given ```x```, make ```x``` 10 times smaller using one operation. Return a value that has the type ```int```. "
   ]
  },
  {
   "cell_type": "code",
   "execution_count": null,
   "metadata": {
    "colab": {},
    "colab_type": "code",
    "id": "3LvyQaJxzjRT"
   },
   "outputs": [],
   "source": [
    "x // 10"
   ]
  },
  {
   "cell_type": "markdown",
   "metadata": {
    "colab_type": "text",
    "id": "r0sJwWCrzjRf"
   },
   "source": [
    "## Question 10"
   ]
  },
  {
   "cell_type": "markdown",
   "metadata": {
    "colab_type": "text",
    "id": "xaRSaQ7kzjRh"
   },
   "source": [
    "### 10.1\n",
    "What type(s) can you multiply lists with, without creating an error?"
   ]
  },
  {
   "cell_type": "markdown",
   "metadata": {
    "colab_type": "text",
    "id": "nAW-w9eK9pmN"
   },
   "source": []
  },
  {
   "cell_type": "markdown",
   "metadata": {
    "colab_type": "text",
    "id": "LzhgT6iWzjRx"
   },
   "source": [
    "## Question 11"
   ]
  },
  {
   "cell_type": "markdown",
   "metadata": {
    "colab_type": "text",
    "id": "g1zA998VzjRz"
   },
   "source": [
    "### 11.1\n",
    "Write code to produce\n",
    "\n",
    "a.  ``` 'ShiroShiroShiro' ```\n",
    "\n",
    "b. ```'Shiro3'```\n",
    "\n",
    "You should only type  ```'Shiro'``` once and ```3``` once for each case."
   ]
  },
  {
   "cell_type": "code",
   "execution_count": null,
   "metadata": {
    "colab": {},
    "colab_type": "code",
    "id": "ByPI6HfMzjR0"
   },
   "outputs": [],
   "source": [
    "y = 'Shiro'\n",
    "y *= 3\n",
    "y"
   ]
  },
  {
   "cell_type": "code",
   "execution_count": null,
   "metadata": {},
   "outputs": [],
   "source": [
    "'Shiro'+'3'"
   ]
  },
  {
   "cell_type": "markdown",
   "metadata": {
    "colab_type": "text",
    "id": "jIP4lzwDzjR8"
   },
   "source": [
    "## Question 12"
   ]
  },
  {
   "cell_type": "markdown",
   "metadata": {
    "colab_type": "text",
    "id": "EM0WvnIjzjR9"
   },
   "source": [
    "### 12.1\n",
    "Look at the following code\n",
    "```python\n",
    "x = 99\n",
    "x /= 10\n",
    "x *= 50\n",
    "y = x\n",
    "y += 5\n",
    "x -= y\n",
    "y %= x\n",
    "\n",
    "```\n",
    "What is ```x``` and ```y```?  Try to do it in your head (or on paper) first before trying it with code."
   ]
  },
  {
   "cell_type": "code",
   "execution_count": null,
   "metadata": {
    "colab": {},
    "colab_type": "code",
    "id": "SbDb49yRzjSC"
   },
   "outputs": [],
   "source": [
    "x = 99\n",
    "x /= 10\n",
    "x *= 50\n",
    "y = x\n",
    "y += 5\n",
    "x -= y\n",
    "y %= x"
   ]
  },
  {
   "cell_type": "code",
   "execution_count": null,
   "metadata": {},
   "outputs": [],
   "source": [
    "x"
   ]
  },
  {
   "cell_type": "code",
   "execution_count": null,
   "metadata": {},
   "outputs": [],
   "source": [
    "y"
   ]
  }
 ],
 "metadata": {
  "colab": {
   "collapsed_sections": [],
   "name": "probs1a.ipynb",
   "provenance": [],
   "version": "0.3.2"
  },
  "kernelspec": {
   "display_name": "Python 3",
   "language": "python",
   "name": "python3"
  },
  "language_info": {
   "codemirror_mode": {
    "name": "ipython",
    "version": 3
   },
   "file_extension": ".py",
   "mimetype": "text/x-python",
   "name": "python",
   "nbconvert_exporter": "python",
   "pygments_lexer": "ipython3",
   "version": "3.6.4"
  }
 },
 "nbformat": 4,
 "nbformat_minor": 1
}
